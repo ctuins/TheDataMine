{
 "cells": [
  {
   "cell_type": "markdown",
   "id": "be02a957-7133-4d02-818e-fedeb3cecb05",
   "metadata": {},
   "source": [
    "# Project 1 -- Corin Tuinstra   "
   ]
  },
  {
   "cell_type": "markdown",
   "id": "6180e742-8e39-4698-98ff-5b00c8cf8ea0",
   "metadata": {},
   "source": [
    "## Question 1"
   ]
  },
  {
   "cell_type": "code",
   "execution_count": null,
   "id": "49445606-d363-41b4-b479-e319a9a84c01",
   "metadata": {},
   "outputs": [],
   "source": [
    "- Across the Anvil sub-clusters, cluster A has 1,000 nodes with 128\n",
    "  cores and 256 GB of memory per node, cluster B has 32 nodes with 128 cores\n",
    "  and 1 TB of memory per node, and cluster G has 16 nodes \n",
    "  with 128 cores per node and 512 GB per node; in total, there are 134,144 cores\n",
    "  and 296,192 GB.\n",
    "- My personal computer has 4 cores and 237 GB of local storage."
   ]
  },
  {
   "cell_type": "markdown",
   "id": "fc601975-35ed-4680-a4e1-0273ee3cc047",
   "metadata": {},
   "source": [
    "## Question 2"
   ]
  },
  {
   "cell_type": "code",
   "execution_count": null,
   "id": "a16336a1-1ef0-41e8-bc7c-49387db27497",
   "metadata": {},
   "outputs": [],
   "source": [
    "system(\"hostname\", intern=TRUE)\n",
    "\n",
    "'a240.anvil.rcac.purdue.edu'"
   ]
  },
  {
   "cell_type": "markdown",
   "id": "8e586edd-ff26-4ce2-8f6b-2424b26f2929",
   "metadata": {},
   "source": [
    "## Question 3"
   ]
  },
  {
   "cell_type": "code",
   "execution_count": null,
   "id": "091e28d3",
   "metadata": {},
   "outputs": [],
   "source": [
    "my_list = [1, 2, 3]\n",
    "print(f'My list is: {my_list}')"
   ]
  },
  {
   "cell_type": "markdown",
   "id": "22183b4d",
   "metadata": {},
   "source": [
    "My list is: [1, 2, 3]"
   ]
  },
  {
   "cell_type": "code",
   "execution_count": null,
   "id": "bbf5dd19",
   "metadata": {},
   "outputs": [],
   "source": [
    "%sql sqlite:////anvil/projects/tdm/data/movies_and_tv/imdb.db"
   ]
  },
  {
   "cell_type": "code",
   "execution_count": null,
   "id": "4f719dba",
   "metadata": {},
   "outputs": [],
   "source": [
    "%%sql\n",
    "\n",
    "SELECT * FROM titles LIMIT 5;"
   ]
  },
  {
   "cell_type": "markdown",
   "id": "c3256538",
   "metadata": {},
   "source": [
    "title_id\ttype\tprimary_title\toriginal_title\tis_adult\tpremiered\tended\truntime_minutes\tgenres\n",
    "tt0000001\tshort\tCarmencita\tCarmencita\t0\t1894\tNone\t1\tDocumentary,Short\n",
    "tt0000002\tshort\tLe clown et ses chiens\tLe clown et ses chiens\t0\t1892\tNone\t5\tAnimation,Short\n",
    "tt0000003\tshort\tPauvre Pierrot\tPauvre Pierrot\t0\t1892\tNone\t4\tAnimation,Comedy,Romance\n",
    "tt0000004\tshort\tUn bon bock\tUn bon bock\t0\t1892\tNone\t12\tAnimation,Short\n",
    "tt0000005\tshort\tBlacksmith Scene\tBlacksmith Scene\t0\t1893\tNone\t1\tComedy,Short"
   ]
  },
  {
   "cell_type": "code",
   "execution_count": null,
   "id": "11e4221e",
   "metadata": {},
   "outputs": [],
   "source": [
    "%%bash\n",
    "\n",
    "awk -F, '{miles=miles+$19}END{print \"Miles: \" miles, \"\\nKilometers:\" miles*1.609344}' /anvil/projects/tdm/data/flights/subset/1991.csv"
   ]
  },
  {
   "cell_type": "markdown",
   "id": "95c50e22",
   "metadata": {},
   "source": [
    "Miles: 3263678656 \n",
    "Kilometers:5.25238e+09"
   ]
  },
  {
   "cell_type": "markdown",
   "id": "b57ea885",
   "metadata": {},
   "source": [
    "Super cool you don't need to load the sql extension each time!"
   ]
  },
  {
   "cell_type": "markdown",
   "id": "da22f29c-d245-4d2b-9fc1-ca14cb6087d9",
   "metadata": {},
   "source": [
    "## Question 4"
   ]
  },
  {
   "cell_type": "markdown",
   "id": "bdcac2dd",
   "metadata": {},
   "source": [
    "13 Markdown, 5 Python"
   ]
  },
  {
   "cell_type": "markdown",
   "id": "88c9cdac-3e92-498f-83fa-e089bfc44ac8",
   "metadata": {},
   "source": [
    "## Question 5"
   ]
  },
  {
   "cell_type": "code",
   "execution_count": null,
   "id": "d370d7c9-06db-42b9-b75f-240481a5c491",
   "metadata": {},
   "outputs": [],
   "source": [
    "print(1000*128+32*128+16*128)\n",
    "print(1000*256+32*1000+16*512)"
   ]
  },
  {
   "cell_type": "markdown",
   "id": "8e999a1d",
   "metadata": {},
   "source": [
    "134144\n",
    "296192"
   ]
  },
  {
   "cell_type": "code",
   "execution_count": null,
   "id": "2cf1d04c",
   "metadata": {
    "vscode": {
     "languageId": "r"
    }
   },
   "outputs": [],
   "source": [
    "%%R\n",
    "print(1000*128+32*128+16*128)\n",
    "print(1000*256+32*1000+16*512)"
   ]
  },
  {
   "cell_type": "markdown",
   "id": "75b4f19a",
   "metadata": {},
   "source": [
    "[1] 134144\n",
    "[1] 296192"
   ]
  },
  {
   "cell_type": "markdown",
   "id": "8a9e1ac4",
   "metadata": {},
   "source": [
    "## Question 6"
   ]
  },
  {
   "cell_type": "code",
   "execution_count": null,
   "id": "f35fbb76",
   "metadata": {
    "vscode": {
     "languageId": "r"
    }
   },
   "outputs": [],
   "source": [
    "%%R\n",
    "\n",
    "dat <- read.csv(\"/anvil/projects/tdm/data/disney/flight_of_passage.csv\")"
   ]
  },
  {
   "cell_type": "code",
   "execution_count": null,
   "id": "9e15764c",
   "metadata": {
    "vscode": {
     "languageId": "r"
    }
   },
   "outputs": [],
   "source": [
    "%%R\n",
    "\n",
    "head(dat)"
   ]
  },
  {
   "cell_type": "markdown",
   "id": "021e086a",
   "metadata": {},
   "source": [
    "date            datetime SACTMIN SPOSTMIN\n",
    "1 05/26/2017 2017-05-26 09:06:38      NA     -999\n",
    "2 05/26/2017 2017-05-26 09:10:11      47       NA\n",
    "3 05/26/2017 2017-05-26 09:10:12      NA        5\n",
    "4 05/26/2017 2017-05-26 09:17:09      NA       60\n",
    "5 05/26/2017 2017-05-26 09:24:07      NA       60\n",
    "6 05/26/2017 2017-05-26 09:30:10      NA       60"
   ]
  },
  {
   "cell_type": "code",
   "execution_count": null,
   "id": "f5ddd8b5",
   "metadata": {
    "vscode": {
     "languageId": "r"
    }
   },
   "outputs": [],
   "source": [
    "%%R\n",
    "flights_of_passage <- dat"
   ]
  },
  {
   "cell_type": "code",
   "execution_count": null,
   "id": "bc47a482",
   "metadata": {
    "vscode": {
     "languageId": "r"
    }
   },
   "outputs": [],
   "source": [
    "%%R\n",
    "rm(dat)"
   ]
  },
  {
   "cell_type": "markdown",
   "id": "f76442d6-d02e-4f26-b9d6-c3183e1d6929",
   "metadata": {},
   "source": [
    "## Pledge\n",
    "\n",
    "By submitting this work I hereby pledge that this is my own, personal work. I've acknowledged in the designated place at the top of this file all sources that I used to complete said work, including but not limited to: online resources, books, and electronic communications. I've noted all collaboration with fellow students and/or TA's. I did not copy or plagiarize another's work.\n",
    "\n",
    "> As a Boilermaker pursuing academic excellence, I pledge to be honest and true in all that I do. Accountable together – We are Purdue."
   ]
  }
 ],
 "metadata": {
  "kernelspec": {
   "display_name": "f2022-s2023",
   "language": "python",
   "name": "f2022-s2023"
  },
  "language_info": {
   "codemirror_mode": {
    "name": "ipython",
    "version": 3
   },
   "file_extension": ".py",
   "mimetype": "text/x-python",
   "name": "python",
   "nbconvert_exporter": "python",
   "pygments_lexer": "ipython3",
   "version": "3.10.5"
  }
 },
 "nbformat": 4,
 "nbformat_minor": 5
}
