{
 "cells": [
  {
   "cell_type": "markdown",
   "id": "be02a957-7133-4d02-818e-fedeb3cecb05",
   "metadata": {},
   "source": [
    "# Project X -- Corin Tuinstra"
   ]
  },
  {
   "cell_type": "markdown",
   "id": "6180e742-8e39-4698-98ff-5b00c8cf8ea0",
   "metadata": {},
   "source": [
    "## Question 1"
   ]
  },
  {
   "cell_type": "code",
   "execution_count": 1,
   "id": "49445606-d363-41b4-b479-e319a9a84c01",
   "metadata": {},
   "outputs": [
    {
     "data": {
      "text/plain": [
       "\n",
       " 1896  1900  1904  1906  1908  1912  1920  1924  1928  1932  1936  1948  1952 \n",
       "  380  1936  1301  1733  3101  4040  4292  5693  5574  3321  7401  7480  9358 \n",
       " 1956  1960  1964  1968  1972  1976  1980  1984  1988  1992  1994  1996  1998 \n",
       " 6434  9235  9480 10479 11959 10502  8937 11588 14676 16413  3160 13780  3605 \n",
       " 2000  2002  2004  2006  2008  2010  2012  2014  2016 \n",
       "13821  4109 13443  4382 13602  4402 12920  4891 13688 "
      ]
     },
     "metadata": {},
     "output_type": "display_data"
    },
    {
     "data": {
      "text/plain": [
       "\n",
       "United States        France Great Britain         Italy       Germany \n",
       "        17847         11988         11404         10260          9326 \n",
       "       Canada \n",
       "         9279 "
      ]
     },
     "metadata": {},
     "output_type": "display_data"
    }
   ],
   "source": [
    "eventsDF <- read.csv(\"/anvil/projects/tdm/data/olympics/athlete_events.csv\")\n",
    "table(eventsDF$Year)\n",
    "head(sort(table(eventsDF$Team), decreasing=TRUE))"
   ]
  },
  {
   "cell_type": "code",
   "execution_count": 37,
   "id": "b3237cb5-ac7b-4ac3-90fd-55680d714f7d",
   "metadata": {},
   "outputs": [
    {
     "data": {
      "text/html": [
       "<style>\n",
       ".list-inline {list-style: none; margin:0; padding: 0}\n",
       ".list-inline>li {display: inline-block}\n",
       ".list-inline>li:not(:last-child)::after {content: \"\\00b7\"; padding: 0 .5ex}\n",
       "</style>\n",
       "<ol class=list-inline><li>'1992 Summer'</li><li>'2012 Summer'</li><li>'1920 Summer'</li><li>'1900 Summer'</li><li>'1988 Winter'</li><li>'1988 Winter'</li></ol>\n"
      ],
      "text/latex": [
       "\\begin{enumerate*}\n",
       "\\item '1992 Summer'\n",
       "\\item '2012 Summer'\n",
       "\\item '1920 Summer'\n",
       "\\item '1900 Summer'\n",
       "\\item '1988 Winter'\n",
       "\\item '1988 Winter'\n",
       "\\end{enumerate*}\n"
      ],
      "text/markdown": [
       "1. '1992 Summer'\n",
       "2. '2012 Summer'\n",
       "3. '1920 Summer'\n",
       "4. '1900 Summer'\n",
       "5. '1988 Winter'\n",
       "6. '1988 Winter'\n",
       "\n",
       "\n"
      ],
      "text/plain": [
       "[1] \"1992 Summer\" \"2012 Summer\" \"1920 Summer\" \"1900 Summer\" \"1988 Winter\"\n",
       "[6] \"1988 Winter\""
      ]
     },
     "metadata": {},
     "output_type": "display_data"
    }
   ],
   "source": [
    "head(eventsDF$Games)"
   ]
  },
  {
   "cell_type": "markdown",
   "id": "b456e57c-4a12-464b-999a-ef2df5af80c1",
   "metadata": {},
   "source": [
    "a) 1896, 1900, 1904, 1906, 1908, 1912, 1920, 1924, 1928, 1932, 1936, 1948, 1952, 1956, 1960, 1964, 1968, 1972, 1976, 1980,1984, 1988, 1992, 1994, 1996, 1998, 2000, 2002, 2004, 2006, 2008, 2010, 2012, 2014, 2016\n",
    "b) There are 1184 countries that participate in the olympics. Although it would too much to list all of them, there are 1184 total. The 5 largest are the US, France, Great Britain, Italy, Germany, and Canada.\n",
    "c)The US is represented 17847 times, France 11988 times, Great Britain 11404 times, Italy 10260, Germany 9326 times, and Canada 9279 times. There are way more countries, but those are the 5 biggest. "
   ]
  },
  {
   "cell_type": "markdown",
   "id": "fc601975-35ed-4680-a4e1-0273ee3cc047",
   "metadata": {},
   "source": [
    "## Question 2"
   ]
  },
  {
   "cell_type": "code",
   "execution_count": 10,
   "id": "a16336a1-1ef0-41e8-bc7c-49387db27497",
   "metadata": {},
   "outputs": [
    {
     "data": {
      "text/html": [
       "<style>\n",
       ".dl-inline {width: auto; margin:0; padding: 0}\n",
       ".dl-inline>dt, .dl-inline>dd {float: none; width: auto; display: inline-block}\n",
       ".dl-inline>dt::after {content: \":\\0020\"; padding-right: .5ex}\n",
       ".dl-inline>dt:not(:first-of-type) {padding-left: .5ex}\n",
       "</style><dl class=dl-inline><dt>Puerto Rico-1</dt><dd>196</dd><dt>England-1</dt><dd>193</dd><dt>France/Great Britain</dt><dd>191</dd><dt>Nadine</dt><dd>190</dd><dt>Ireland-1</dt><dd>189.666666666667</dd><dt>Serbia-2</dt><dd>189</dd></dl>\n"
      ],
      "text/latex": [
       "\\begin{description*}\n",
       "\\item[Puerto Rico-1] 196\n",
       "\\item[England-1] 193\n",
       "\\item[France/Great Britain] 191\n",
       "\\item[Nadine] 190\n",
       "\\item[Ireland-1] 189.666666666667\n",
       "\\item[Serbia-2] 189\n",
       "\\end{description*}\n"
      ],
      "text/markdown": [
       "Puerto Rico-1\n",
       ":   196England-1\n",
       ":   193France/Great Britain\n",
       ":   191Nadine\n",
       ":   190Ireland-1\n",
       ":   189.666666666667Serbia-2\n",
       ":   189\n",
       "\n"
      ],
      "text/plain": [
       "       Puerto Rico-1            England-1 France/Great Britain \n",
       "            196.0000             193.0000             191.0000 \n",
       "              Nadine            Ireland-1             Serbia-2 \n",
       "            190.0000             189.6667             189.0000 "
      ]
     },
     "metadata": {},
     "output_type": "display_data"
    },
    {
     "name": "stderr",
     "output_type": "stream",
     "text": [
      "Warning message in FUN(X[[i]], ...):\n",
      "\"no non-missing arguments to max; returning -Inf\"\n",
      "Warning message in FUN(X[[i]], ...):\n",
      "\"no non-missing arguments to max; returning -Inf\"\n",
      "Warning message in FUN(X[[i]], ...):\n",
      "\"no non-missing arguments to max; returning -Inf\"\n",
      "Warning message in FUN(X[[i]], ...):\n",
      "\"no non-missing arguments to max; returning -Inf\"\n",
      "Warning message in FUN(X[[i]], ...):\n",
      "\"no non-missing arguments to max; returning -Inf\"\n",
      "Warning message in FUN(X[[i]], ...):\n",
      "\"no non-missing arguments to max; returning -Inf\"\n",
      "Warning message in FUN(X[[i]], ...):\n",
      "\"no non-missing arguments to max; returning -Inf\"\n",
      "Warning message in FUN(X[[i]], ...):\n",
      "\"no non-missing arguments to max; returning -Inf\"\n",
      "Warning message in FUN(X[[i]], ...):\n",
      "\"no non-missing arguments to max; returning -Inf\"\n",
      "Warning message in FUN(X[[i]], ...):\n",
      "\"no non-missing arguments to max; returning -Inf\"\n",
      "Warning message in FUN(X[[i]], ...):\n",
      "\"no non-missing arguments to max; returning -Inf\"\n",
      "Warning message in FUN(X[[i]], ...):\n",
      "\"no non-missing arguments to max; returning -Inf\"\n",
      "Warning message in FUN(X[[i]], ...):\n",
      "\"no non-missing arguments to max; returning -Inf\"\n",
      "Warning message in FUN(X[[i]], ...):\n",
      "\"no non-missing arguments to max; returning -Inf\"\n",
      "Warning message in FUN(X[[i]], ...):\n",
      "\"no non-missing arguments to max; returning -Inf\"\n",
      "Warning message in FUN(X[[i]], ...):\n",
      "\"no non-missing arguments to max; returning -Inf\"\n",
      "Warning message in FUN(X[[i]], ...):\n",
      "\"no non-missing arguments to max; returning -Inf\"\n",
      "Warning message in FUN(X[[i]], ...):\n",
      "\"no non-missing arguments to max; returning -Inf\"\n",
      "Warning message in FUN(X[[i]], ...):\n",
      "\"no non-missing arguments to max; returning -Inf\"\n",
      "Warning message in FUN(X[[i]], ...):\n",
      "\"no non-missing arguments to max; returning -Inf\"\n",
      "Warning message in FUN(X[[i]], ...):\n",
      "\"no non-missing arguments to max; returning -Inf\"\n",
      "Warning message in FUN(X[[i]], ...):\n",
      "\"no non-missing arguments to max; returning -Inf\"\n",
      "Warning message in FUN(X[[i]], ...):\n",
      "\"no non-missing arguments to max; returning -Inf\"\n",
      "Warning message in FUN(X[[i]], ...):\n",
      "\"no non-missing arguments to max; returning -Inf\"\n",
      "Warning message in FUN(X[[i]], ...):\n",
      "\"no non-missing arguments to max; returning -Inf\"\n",
      "Warning message in FUN(X[[i]], ...):\n",
      "\"no non-missing arguments to max; returning -Inf\"\n",
      "Warning message in FUN(X[[i]], ...):\n",
      "\"no non-missing arguments to max; returning -Inf\"\n",
      "Warning message in FUN(X[[i]], ...):\n",
      "\"no non-missing arguments to max; returning -Inf\"\n",
      "Warning message in FUN(X[[i]], ...):\n",
      "\"no non-missing arguments to max; returning -Inf\"\n",
      "Warning message in FUN(X[[i]], ...):\n",
      "\"no non-missing arguments to max; returning -Inf\"\n",
      "Warning message in FUN(X[[i]], ...):\n",
      "\"no non-missing arguments to max; returning -Inf\"\n",
      "Warning message in FUN(X[[i]], ...):\n",
      "\"no non-missing arguments to max; returning -Inf\"\n",
      "Warning message in FUN(X[[i]], ...):\n",
      "\"no non-missing arguments to max; returning -Inf\"\n",
      "Warning message in FUN(X[[i]], ...):\n",
      "\"no non-missing arguments to max; returning -Inf\"\n",
      "Warning message in FUN(X[[i]], ...):\n",
      "\"no non-missing arguments to max; returning -Inf\"\n",
      "Warning message in FUN(X[[i]], ...):\n",
      "\"no non-missing arguments to max; returning -Inf\"\n",
      "Warning message in FUN(X[[i]], ...):\n",
      "\"no non-missing arguments to max; returning -Inf\"\n",
      "Warning message in FUN(X[[i]], ...):\n",
      "\"no non-missing arguments to max; returning -Inf\"\n",
      "Warning message in FUN(X[[i]], ...):\n",
      "\"no non-missing arguments to max; returning -Inf\"\n",
      "Warning message in FUN(X[[i]], ...):\n",
      "\"no non-missing arguments to max; returning -Inf\"\n",
      "Warning message in FUN(X[[i]], ...):\n",
      "\"no non-missing arguments to max; returning -Inf\"\n",
      "Warning message in FUN(X[[i]], ...):\n",
      "\"no non-missing arguments to max; returning -Inf\"\n",
      "Warning message in FUN(X[[i]], ...):\n",
      "\"no non-missing arguments to max; returning -Inf\"\n",
      "Warning message in FUN(X[[i]], ...):\n",
      "\"no non-missing arguments to max; returning -Inf\"\n",
      "Warning message in FUN(X[[i]], ...):\n",
      "\"no non-missing arguments to max; returning -Inf\"\n",
      "Warning message in FUN(X[[i]], ...):\n",
      "\"no non-missing arguments to max; returning -Inf\"\n",
      "Warning message in FUN(X[[i]], ...):\n",
      "\"no non-missing arguments to max; returning -Inf\"\n",
      "Warning message in FUN(X[[i]], ...):\n",
      "\"no non-missing arguments to max; returning -Inf\"\n",
      "Warning message in FUN(X[[i]], ...):\n",
      "\"no non-missing arguments to max; returning -Inf\"\n",
      "Warning message in FUN(X[[i]], ...):\n",
      "\"no non-missing arguments to max; returning -Inf\"\n",
      "Warning message in FUN(X[[i]], ...):\n",
      "\"no non-missing arguments to max; returning -Inf\"\n",
      "Warning message in FUN(X[[i]], ...):\n",
      "\"no non-missing arguments to max; returning -Inf\"\n",
      "Warning message in FUN(X[[i]], ...):\n",
      "\"no non-missing arguments to max; returning -Inf\"\n",
      "Warning message in FUN(X[[i]], ...):\n",
      "\"no non-missing arguments to max; returning -Inf\"\n",
      "Warning message in FUN(X[[i]], ...):\n",
      "\"no non-missing arguments to max; returning -Inf\"\n",
      "Warning message in FUN(X[[i]], ...):\n",
      "\"no non-missing arguments to max; returning -Inf\"\n",
      "Warning message in FUN(X[[i]], ...):\n",
      "\"no non-missing arguments to max; returning -Inf\"\n",
      "Warning message in FUN(X[[i]], ...):\n",
      "\"no non-missing arguments to max; returning -Inf\"\n",
      "Warning message in FUN(X[[i]], ...):\n",
      "\"no non-missing arguments to max; returning -Inf\"\n",
      "Warning message in FUN(X[[i]], ...):\n",
      "\"no non-missing arguments to max; returning -Inf\"\n",
      "Warning message in FUN(X[[i]], ...):\n",
      "\"no non-missing arguments to max; returning -Inf\"\n",
      "Warning message in FUN(X[[i]], ...):\n",
      "\"no non-missing arguments to max; returning -Inf\"\n",
      "Warning message in FUN(X[[i]], ...):\n",
      "\"no non-missing arguments to max; returning -Inf\"\n",
      "Warning message in FUN(X[[i]], ...):\n",
      "\"no non-missing arguments to max; returning -Inf\"\n",
      "Warning message in FUN(X[[i]], ...):\n",
      "\"no non-missing arguments to max; returning -Inf\"\n",
      "Warning message in FUN(X[[i]], ...):\n",
      "\"no non-missing arguments to max; returning -Inf\"\n",
      "Warning message in FUN(X[[i]], ...):\n",
      "\"no non-missing arguments to max; returning -Inf\"\n",
      "Warning message in FUN(X[[i]], ...):\n",
      "\"no non-missing arguments to max; returning -Inf\"\n",
      "Warning message in FUN(X[[i]], ...):\n",
      "\"no non-missing arguments to max; returning -Inf\"\n",
      "Warning message in FUN(X[[i]], ...):\n",
      "\"no non-missing arguments to max; returning -Inf\"\n",
      "Warning message in FUN(X[[i]], ...):\n",
      "\"no non-missing arguments to max; returning -Inf\"\n",
      "Warning message in FUN(X[[i]], ...):\n",
      "\"no non-missing arguments to max; returning -Inf\"\n",
      "Warning message in FUN(X[[i]], ...):\n",
      "\"no non-missing arguments to max; returning -Inf\"\n",
      "Warning message in FUN(X[[i]], ...):\n",
      "\"no non-missing arguments to max; returning -Inf\"\n",
      "Warning message in FUN(X[[i]], ...):\n",
      "\"no non-missing arguments to max; returning -Inf\"\n"
     ]
    },
    {
     "data": {
      "text/html": [
       "<style>\n",
       ".dl-inline {width: auto; margin:0; padding: 0}\n",
       ".dl-inline>dt, .dl-inline>dd {float: none; width: auto; display: inline-block}\n",
       ".dl-inline>dt::after {content: \":\\0020\"; padding-right: .5ex}\n",
       ".dl-inline>dt:not(:first-of-type) {padding-left: .5ex}\n",
       "</style><dl class=dl-inline><dt>United States</dt><dd>97</dd><dt>Great Britain</dt><dd>84</dd><dt>Canada</dt><dd>81</dd><dt>France</dt><dd>81</dd><dt>Germany</dt><dd>80</dd><dt>Austria</dt><dd>76</dd></dl>\n"
      ],
      "text/latex": [
       "\\begin{description*}\n",
       "\\item[United States] 97\n",
       "\\item[Great Britain] 84\n",
       "\\item[Canada] 81\n",
       "\\item[France] 81\n",
       "\\item[Germany] 80\n",
       "\\item[Austria] 76\n",
       "\\end{description*}\n"
      ],
      "text/markdown": [
       "United States\n",
       ":   97Great Britain\n",
       ":   84Canada\n",
       ":   81France\n",
       ":   81Germany\n",
       ":   80Austria\n",
       ":   76\n",
       "\n"
      ],
      "text/plain": [
       "United States Great Britain        Canada        France       Germany \n",
       "           97            84            81            81            80 \n",
       "      Austria \n",
       "           76 "
      ]
     },
     "metadata": {},
     "output_type": "display_data"
    },
    {
     "data": {
      "text/html": [
       "<style>\n",
       ".dl-inline {width: auto; margin:0; padding: 0}\n",
       ".dl-inline>dt, .dl-inline>dd {float: none; width: auto; display: inline-block}\n",
       ".dl-inline>dt::after {content: \":\\0020\"; padding-right: .5ex}\n",
       ".dl-inline>dt:not(:first-of-type) {padding-left: .5ex}\n",
       "</style><dl class=dl-inline><dt>United States</dt><dd>998567.333333333</dd><dt>France</dt><dd>545660.5</dd><dt>Canada</dt><dd>541615.5</dd><dt>Great Britain</dt><dd>533545</dd><dt>Italy</dt><dd>527239</dd><dt>Germany</dt><dd>506186</dd></dl>\n"
      ],
      "text/latex": [
       "\\begin{description*}\n",
       "\\item[United States] 998567.333333333\n",
       "\\item[France] 545660.5\n",
       "\\item[Canada] 541615.5\n",
       "\\item[Great Britain] 533545\n",
       "\\item[Italy] 527239\n",
       "\\item[Germany] 506186\n",
       "\\end{description*}\n"
      ],
      "text/markdown": [
       "United States\n",
       ":   998567.333333333France\n",
       ":   545660.5Canada\n",
       ":   541615.5Great Britain\n",
       ":   533545Italy\n",
       ":   527239Germany\n",
       ":   506186\n",
       "\n"
      ],
      "text/plain": [
       "United States        France        Canada Great Britain         Italy \n",
       "     998567.3      545660.5      541615.5      533545.0      527239.0 \n",
       "      Germany \n",
       "     506186.0 "
      ]
     },
     "metadata": {},
     "output_type": "display_data"
    }
   ],
   "source": [
    "head(sort(tapply(eventsDF$Height, eventsDF$Team, mean, na.rm=TRUE),decreasing=TRUE))\n",
    "head(sort(tapply(eventsDF$Age, eventsDF$Team, max, na.rm=TRUE), decreasing=TRUE))\n",
    "head(sort(tapply(eventsDF$Weight, eventsDF$Team, sum, na.rm=TRUE), decreasing=TRUE))"
   ]
  },
  {
   "cell_type": "markdown",
   "id": "14dc22d4-ddc3-41cc-a91a-cb0025bc0c80",
   "metadata": {},
   "source": [
    "A) Although there are a lot of countries, the top five countries are Puerto Rico with 196, England with 193, France/Great Britain with 191, Nadine with 190, Ireland with 189.67, and Serbia with 189.\n",
    "B) The countries with the oldest ages are US with 97, Great Britain with 84, Canada with 81, France with 81, Germayn with 80, and Austria with 76.\n",
    "C) There are a lot of countries, but the top 5 sums are US with 998567.33, France with 545660.5, Canada with 541615.5, Great Britain with 533545, Italy with 527239, and Germany with 506186."
   ]
  },
  {
   "cell_type": "markdown",
   "id": "8e586edd-ff26-4ce2-8f6b-2424b26f2929",
   "metadata": {},
   "source": [
    "## Question 3"
   ]
  },
  {
   "cell_type": "code",
   "execution_count": 16,
   "id": "bbe0f40d-9655-4653-9ca8-886bdb61cb91",
   "metadata": {},
   "outputs": [],
   "source": [
    "deathrecordsDF <- read.csv(\"/anvil/projects/tdm/data/death_records/DeathRecords.csv\")"
   ]
  },
  {
   "cell_type": "code",
   "execution_count": 19,
   "id": "2a7fde0c-582e-4db9-b2e3-d10bbb4b1af7",
   "metadata": {},
   "outputs": [
    {
     "data": {
      "text/html": [
       "<style>\n",
       ".list-inline {list-style: none; margin:0; padding: 0}\n",
       ".list-inline>li {display: inline-block}\n",
       ".list-inline>li:not(:last-child)::after {content: \"\\00b7\"; padding: 0 .5ex}\n",
       "</style>\n",
       "<ol class=list-inline><li>'Id'</li><li>'ResidentStatus'</li><li>'Education1989Revision'</li><li>'Education2003Revision'</li><li>'EducationReportingFlag'</li><li>'MonthOfDeath'</li><li>'Sex'</li><li>'AgeType'</li><li>'Age'</li><li>'AgeSubstitutionFlag'</li><li>'AgeRecode52'</li><li>'AgeRecode27'</li><li>'AgeRecode12'</li><li>'InfantAgeRecode22'</li><li>'PlaceOfDeathAndDecedentsStatus'</li><li>'MaritalStatus'</li><li>'DayOfWeekOfDeath'</li><li>'CurrentDataYear'</li><li>'InjuryAtWork'</li><li>'MannerOfDeath'</li><li>'MethodOfDisposition'</li><li>'Autopsy'</li><li>'ActivityCode'</li><li>'PlaceOfInjury'</li><li>'Icd10Code'</li><li>'CauseRecode358'</li><li>'CauseRecode113'</li><li>'InfantCauseRecode130'</li><li>'CauseRecode39'</li><li>'NumberOfEntityAxisConditions'</li><li>'NumberOfRecordAxisConditions'</li><li>'Race'</li><li>'BridgedRaceFlag'</li><li>'RaceImputationFlag'</li><li>'RaceRecode3'</li><li>'RaceRecode5'</li><li>'HispanicOrigin'</li><li>'HispanicOriginRaceRecode'</li></ol>\n"
      ],
      "text/latex": [
       "\\begin{enumerate*}\n",
       "\\item 'Id'\n",
       "\\item 'ResidentStatus'\n",
       "\\item 'Education1989Revision'\n",
       "\\item 'Education2003Revision'\n",
       "\\item 'EducationReportingFlag'\n",
       "\\item 'MonthOfDeath'\n",
       "\\item 'Sex'\n",
       "\\item 'AgeType'\n",
       "\\item 'Age'\n",
       "\\item 'AgeSubstitutionFlag'\n",
       "\\item 'AgeRecode52'\n",
       "\\item 'AgeRecode27'\n",
       "\\item 'AgeRecode12'\n",
       "\\item 'InfantAgeRecode22'\n",
       "\\item 'PlaceOfDeathAndDecedentsStatus'\n",
       "\\item 'MaritalStatus'\n",
       "\\item 'DayOfWeekOfDeath'\n",
       "\\item 'CurrentDataYear'\n",
       "\\item 'InjuryAtWork'\n",
       "\\item 'MannerOfDeath'\n",
       "\\item 'MethodOfDisposition'\n",
       "\\item 'Autopsy'\n",
       "\\item 'ActivityCode'\n",
       "\\item 'PlaceOfInjury'\n",
       "\\item 'Icd10Code'\n",
       "\\item 'CauseRecode358'\n",
       "\\item 'CauseRecode113'\n",
       "\\item 'InfantCauseRecode130'\n",
       "\\item 'CauseRecode39'\n",
       "\\item 'NumberOfEntityAxisConditions'\n",
       "\\item 'NumberOfRecordAxisConditions'\n",
       "\\item 'Race'\n",
       "\\item 'BridgedRaceFlag'\n",
       "\\item 'RaceImputationFlag'\n",
       "\\item 'RaceRecode3'\n",
       "\\item 'RaceRecode5'\n",
       "\\item 'HispanicOrigin'\n",
       "\\item 'HispanicOriginRaceRecode'\n",
       "\\end{enumerate*}\n"
      ],
      "text/markdown": [
       "1. 'Id'\n",
       "2. 'ResidentStatus'\n",
       "3. 'Education1989Revision'\n",
       "4. 'Education2003Revision'\n",
       "5. 'EducationReportingFlag'\n",
       "6. 'MonthOfDeath'\n",
       "7. 'Sex'\n",
       "8. 'AgeType'\n",
       "9. 'Age'\n",
       "10. 'AgeSubstitutionFlag'\n",
       "11. 'AgeRecode52'\n",
       "12. 'AgeRecode27'\n",
       "13. 'AgeRecode12'\n",
       "14. 'InfantAgeRecode22'\n",
       "15. 'PlaceOfDeathAndDecedentsStatus'\n",
       "16. 'MaritalStatus'\n",
       "17. 'DayOfWeekOfDeath'\n",
       "18. 'CurrentDataYear'\n",
       "19. 'InjuryAtWork'\n",
       "20. 'MannerOfDeath'\n",
       "21. 'MethodOfDisposition'\n",
       "22. 'Autopsy'\n",
       "23. 'ActivityCode'\n",
       "24. 'PlaceOfInjury'\n",
       "25. 'Icd10Code'\n",
       "26. 'CauseRecode358'\n",
       "27. 'CauseRecode113'\n",
       "28. 'InfantCauseRecode130'\n",
       "29. 'CauseRecode39'\n",
       "30. 'NumberOfEntityAxisConditions'\n",
       "31. 'NumberOfRecordAxisConditions'\n",
       "32. 'Race'\n",
       "33. 'BridgedRaceFlag'\n",
       "34. 'RaceImputationFlag'\n",
       "35. 'RaceRecode3'\n",
       "36. 'RaceRecode5'\n",
       "37. 'HispanicOrigin'\n",
       "38. 'HispanicOriginRaceRecode'\n",
       "\n",
       "\n"
      ],
      "text/plain": [
       " [1] \"Id\"                             \"ResidentStatus\"                \n",
       " [3] \"Education1989Revision\"          \"Education2003Revision\"         \n",
       " [5] \"EducationReportingFlag\"         \"MonthOfDeath\"                  \n",
       " [7] \"Sex\"                            \"AgeType\"                       \n",
       " [9] \"Age\"                            \"AgeSubstitutionFlag\"           \n",
       "[11] \"AgeRecode52\"                    \"AgeRecode27\"                   \n",
       "[13] \"AgeRecode12\"                    \"InfantAgeRecode22\"             \n",
       "[15] \"PlaceOfDeathAndDecedentsStatus\" \"MaritalStatus\"                 \n",
       "[17] \"DayOfWeekOfDeath\"               \"CurrentDataYear\"               \n",
       "[19] \"InjuryAtWork\"                   \"MannerOfDeath\"                 \n",
       "[21] \"MethodOfDisposition\"            \"Autopsy\"                       \n",
       "[23] \"ActivityCode\"                   \"PlaceOfInjury\"                 \n",
       "[25] \"Icd10Code\"                      \"CauseRecode358\"                \n",
       "[27] \"CauseRecode113\"                 \"InfantCauseRecode130\"          \n",
       "[29] \"CauseRecode39\"                  \"NumberOfEntityAxisConditions\"  \n",
       "[31] \"NumberOfRecordAxisConditions\"   \"Race\"                          \n",
       "[33] \"BridgedRaceFlag\"                \"RaceImputationFlag\"            \n",
       "[35] \"RaceRecode3\"                    \"RaceRecode5\"                   \n",
       "[37] \"HispanicOrigin\"                 \"HispanicOriginRaceRecode\"      "
      ]
     },
     "metadata": {},
     "output_type": "display_data"
    }
   ],
   "source": [
    "colnames(deathrecordsDF)"
   ]
  },
  {
   "cell_type": "code",
   "execution_count": 24,
   "id": "8ae2c8c8-2508-47d6-8f59-7b5399b43886",
   "metadata": {},
   "outputs": [
    {
     "data": {
      "text/html": [
       "<style>\n",
       ".list-inline {list-style: none; margin:0; padding: 0}\n",
       ".list-inline>li {display: inline-block}\n",
       ".list-inline>li:not(:last-child)::after {content: \"\\00b7\"; padding: 0 .5ex}\n",
       "</style>\n",
       "<ol class=list-inline><li>4</li><li>3</li><li>2</li><li>1</li><li>2</li><li>4</li></ol>\n"
      ],
      "text/latex": [
       "\\begin{enumerate*}\n",
       "\\item 4\n",
       "\\item 3\n",
       "\\item 2\n",
       "\\item 1\n",
       "\\item 2\n",
       "\\item 4\n",
       "\\end{enumerate*}\n"
      ],
      "text/markdown": [
       "1. 4\n",
       "2. 3\n",
       "3. 2\n",
       "4. 1\n",
       "5. 2\n",
       "6. 4\n",
       "\n",
       "\n"
      ],
      "text/plain": [
       "[1] 4 3 2 1 2 4"
      ]
     },
     "metadata": {},
     "output_type": "display_data"
    },
    {
     "data": {
      "text/plain": [
       "\n",
       "   Monday   Tuesday Wednesday  Thursday    Friday  Saturday    Sunday   Unknown \n",
       "   372388    375854    372792    380526    372464    378949    378070       128 "
      ]
     },
     "metadata": {},
     "output_type": "display_data"
    }
   ],
   "source": [
    "head(deathrecordsDF$DayOfWeekOfDeath)\n",
    "table(factor(deathrecordsDF$DayOfWeekOfDeath,levels=c(1:7,9),labels=c(\"Monday\",\"Tuesday\",\"Wednesday\",\"Thursday\",\"Friday\",\"Saturday\",\"Sunday\",\"Unknown\")))"
   ]
  },
  {
   "cell_type": "markdown",
   "id": "47c6229f-35f7-400c-8366-c442baa5cf47",
   "metadata": {},
   "source": [
    "a) The column names are 'Id''ResidentStatus''Education1989Revision''Education2003Revision','EducationReportingFlag''MonthOfDeath''Sex''AgeType''Age''AgeSubstitutionFlag''AgeRecode52''AgeRecode27''AgeRecode12''InfantAgeRecode22''PlaceOfDeathAndDecedentsStatus''MaritalStatus''DayOfWeekOfDeath''CurrentDataYear''InjuryAtWork''MannerOfDeath''MethodOfDisposition''Autopsy''ActivityCode''PlaceOfInjury''Icd10Code''CauseRecode358''CauseRecode113''InfantCauseRecode130''CauseRecode39''NumberOfEntityAxisConditions''NumberOfRecordAxisConditions''Race''BridgedRaceFlag''RaceImputationFlag''RaceRecode3''RaceRecode5''HispanicOrigin''HispanicOriginRaceRecode'\n",
    "c)Monday: 372388 Tuesday: 375854 Wednesday: 372792 Thursday: 380526 Friday:372464 Saturday: 378949   Sunday: 378070\n",
    "                       "
   ]
  },
  {
   "cell_type": "markdown",
   "id": "da22f29c-d245-4d2b-9fc1-ca14cb6087d9",
   "metadata": {},
   "source": [
    "## Question 4"
   ]
  },
  {
   "cell_type": "code",
   "execution_count": 28,
   "id": "8cffc767-d1c8-4d64-b7dc-f0d2ee8a80d1",
   "metadata": {},
   "outputs": [
    {
     "data": {
      "text/html": [
       "<style>\n",
       ".dl-inline {width: auto; margin:0; padding: 0}\n",
       ".dl-inline>dt, .dl-inline>dd {float: none; width: auto; display: inline-block}\n",
       ".dl-inline>dt::after {content: \":\\0020\"; padding-right: .5ex}\n",
       ".dl-inline>dt:not(:first-of-type) {padding-left: .5ex}\n",
       "</style><dl class=dl-inline><dt>F</dt><dd>76.6766847989167</dd><dt>M</dt><dd>70.2278579695537</dd></dl>\n"
      ],
      "text/latex": [
       "\\begin{description*}\n",
       "\\item[F] 76.6766847989167\n",
       "\\item[M] 70.2278579695537\n",
       "\\end{description*}\n"
      ],
      "text/markdown": [
       "F\n",
       ":   76.6766847989167M\n",
       ":   70.2278579695537\n",
       "\n"
      ],
      "text/plain": [
       "       F        M \n",
       "76.67668 70.22786 "
      ]
     },
     "metadata": {},
     "output_type": "display_data"
    },
    {
     "data": {
      "text/plain": [
       "\n",
       "     D      M      S      U      W \n",
       "213152 655669 206175  13248 243217 "
      ]
     },
     "metadata": {},
     "output_type": "display_data"
    },
    {
     "data": {
      "text/plain": [
       "\n",
       "     D      M      S      U      W \n",
       "187807 324347 126868   5465 655223 "
      ]
     },
     "metadata": {},
     "output_type": "display_data"
    },
    {
     "data": {
      "text/plain": [
       "$F\n",
       "\n",
       "     D      M      S      U      W \n",
       "187807 324347 126868   5465 655223 \n",
       "\n",
       "$M\n",
       "\n",
       "     D      M      S      U      W \n",
       "213152 655669 206175  13248 243217 \n"
      ]
     },
     "metadata": {},
     "output_type": "display_data"
    }
   ],
   "source": [
    "tapply(deathrecordsDF$Age, deathrecordsDF$Sex, mean)\n",
    "table(deathrecordsDF$MaritalStatus[deathrecordsDF$Sex == \"M\"])\n",
    "table(deathrecordsDF$MaritalStatus[deathrecordsDF$Sex == \"F\"])\n",
    "tapply(deathrecordsDF$MaritalStatus, deathrecordsDF$Sex, table)"
   ]
  },
  {
   "cell_type": "markdown",
   "id": "0d552245-b4d6-474a-9cc9-fa7b8e674d55",
   "metadata": {},
   "source": [
    "a) Female: 76.68; Male: 70.23\n",
    "b) Male:\n",
    "     D      M      S      U      W \n",
    "213152 655669 206175  13248 243217 \n",
    "Female:\n",
    "     D      M      S      U      W \n",
    "187807 324347 126868   5465 655223\n",
    "c) see above"
   ]
  },
  {
   "cell_type": "markdown",
   "id": "88c9cdac-3e92-498f-83fa-e089bfc44ac8",
   "metadata": {},
   "source": [
    "## Question 5"
   ]
  },
  {
   "cell_type": "code",
   "execution_count": 56,
   "id": "d370d7c9-06db-42b9-b75f-240481a5c491",
   "metadata": {},
   "outputs": [
    {
     "data": {
      "image/png": "[encoded data removed]",
      "text/plain": [
       "Plot with title \"Histogram of eventsDF$Height\""
      ]
     },
     "metadata": {
      "image/png": {
       "height": 420,
       "width": 420
      }
     },
     "output_type": "display_data"
    },
    {
     "data": {
      "image/png": "[encoded data removed]",
      "text/plain": [
       "Plot with title \"Histogram of deathrecordsDF$Age\""
      ]
     },
     "metadata": {
      "image/png": {
       "height": 420,
       "width": 420
      }
     },
     "output_type": "display_data"
    }
   ],
   "source": [
    "hist(eventsDF$Height)\n",
    "hist(deathrecordsDF$Age, xlim=c(0,100),breaks=100000)"
   ]
  },
  {
   "cell_type": "markdown",
   "id": "9fbf00fb-2418-460f-ae94-2a32b0c28952",
   "metadata": {},
   "source": [
    "I thought these two were interesting because I wanted to know the distribution of ages intuitively. It's somewhat interesting to me the symmetrical nature of the first histogram and some of the random spikes in the second. Altogether interesting to know how death is spread out over ages."
   ]
  },
  {
   "cell_type": "markdown",
   "id": "f76442d6-d02e-4f26-b9d6-c3183e1d6929",
   "metadata": {},
   "source": [
    "## Pledge\n",
    "\n",
    "By submitting this work I hereby pledge that this is my own, personal work. I've acknowledged in the designated place at the top of this file all sources that I used to complete said work, including but not limited to: online resources, books, and electronic communications. I've noted all collaboration with fellow students and/or TA's. I did not copy or plagiarize another's work.\n",
    "\n",
    "> As a Boilermaker pursuing academic excellence, I pledge to be honest and true in all that I do. Accountable together – We are Purdue."
   ]
  }
 ],
 "metadata": {
  "kernelspec": {
   "display_name": "f2022-s2023-r",
   "language": "R",
   "name": "f2022-s2023-r"
  },
  "language_info": {
   "codemirror_mode": "r",
   "file_extension": ".r",
   "mimetype": "text/x-r-source",
   "name": "R",
   "pygments_lexer": "r",
   "version": "4.2.1"
  }
 },
 "nbformat": 4,
 "nbformat_minor": 5
}
