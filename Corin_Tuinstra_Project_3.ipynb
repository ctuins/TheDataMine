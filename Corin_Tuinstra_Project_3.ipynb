{
 "cells": [
  {
   "cell_type": "markdown",
   "id": "be02a957-7133-4d02-818e-fedeb3cecb05",
   "metadata": {},
   "source": [
    "# Project 3 -- Corin Tuinstra"
   ]
  },
  {
   "cell_type": "markdown",
   "id": "a1228853-dd19-4ab2-89e0-0394d7d72de3",
   "metadata": {},
   "source": [
    "**Outside Help**:\n",
    "https://www.statology.org/complete-cases-in-r/"
   ]
  },
  {
   "cell_type": "markdown",
   "id": "6180e742-8e39-4698-98ff-5b00c8cf8ea0",
   "metadata": {},
   "source": [
    "## Question 1"
   ]
  },
  {
   "cell_type": "code",
   "execution_count": 1,
   "id": "49445606-d363-41b4-b479-e319a9a84c01",
   "metadata": {},
   "outputs": [
    {
     "data": {
      "text/plain": [
       " [1] \"7_dwarfs_train.csv\"                \"alien_saucers.csv\"                \n",
       " [3] \"dinosaur.csv\"                      \"entities.csv\"                     \n",
       " [5] \"expedition_everest.csv\"            \"flight_of_passage.csv\"            \n",
       " [7] \"kilimanjaro_safaris.csv\"           \"metadata.csv\"                     \n",
       " [9] \"navi_river.csv\"                    \"pirates_of_caribbean.csv\"         \n",
       "[11] \"rock_n_rollercoaster.csv\"          \"slinky_dog.csv\"                   \n",
       "[13] \"soarin.csv\"                        \"spaceship_earth.csv\"              \n",
       "[15] \"splash_mountain.csv\"               \"total.parquet\"                    \n",
       "[17] \"touringplans_data_dictionary.xlsx\" \"toy_story_mania.csv\"              \n",
       "[19] \"update.py\"                        "
      ]
     },
     "metadata": {},
     "output_type": "display_data"
    },
    {
     "data": {
      "text/plain": [
       "[1] 11696214"
      ]
     },
     "metadata": {},
     "output_type": "display_data"
    },
    {
     "data": {
      "text/plain": [
       "  date       datetime            SACTMIN SPOSTMIN\n",
       "1 01/01/2015 2015-01-01 07:51:12 NA      45      \n",
       "2 01/01/2015 2015-01-01 08:02:13 NA      60      \n",
       "3 01/01/2015 2015-01-01 08:05:30 54      NA      \n",
       "4 01/01/2015 2015-01-01 08:09:12 NA      60      \n",
       "5 01/01/2015 2015-01-01 08:16:12 NA      60      \n",
       "6 01/01/2015 2015-01-01 08:22:16 55      NA      "
      ]
     },
     "metadata": {},
     "output_type": "display_data"
    },
    {
     "data": {
      "text/plain": [
       "[1] 321631      4"
      ]
     },
     "metadata": {},
     "output_type": "display_data"
    },
    {
     "name": "stdout",
     "output_type": "stream",
     "text": [
      "'data.frame':\t321631 obs. of  4 variables:\n",
      " $ date    : Factor w/ 2334 levels \"01/01/2015\",\"01/01/2016\",..: 1 1 1 1 1 1 1 1 1 1 ...\n",
      " $ datetime: Factor w/ 321586 levels \"2015-01-01 07:51:12\",..: 1 2 3 4 5 6 7 8 9 10 ...\n",
      " $ SACTMIN : int  NA NA 54 NA NA 55 NA NA NA NA ...\n",
      " $ SPOSTMIN: int  45 60 NA 60 60 NA 60 60 90 105 ...\n"
     ]
    }
   ],
   "source": [
    "options(jupyter.rich_display = F)\n",
    "list.files(\"/anvil/projects/tdm/data/disney\")\n",
    "myDF <- read.csv(\"/anvil/projects/tdm/data/disney/7_dwarfs_train.csv\", stringsAsFactors = TRUE)\n",
    "file.info(\"/anvil/projects/tdm/data/disney/7_dwarfs_train.csv\")$size\n",
    "head(myDF)\n",
    "dim(myDF)\n",
    "str(myDF)"
   ]
  },
  {
   "cell_type": "markdown",
   "id": "b456e57c-4a12-464b-999a-ef2df5af80c1",
   "metadata": {},
   "source": [
    "This dataset is 321,163 rows long by 4 columns across. There are 4 variables: date, a String Factor of date in the form of M/D/Y;\n",
    "datetime, a String factor of date in the form of Y-M-D H:M:S; SACTMIN, an int that is either NA or a number; and SPOSTMIN, an int\n",
    "that is either an int or NA."
   ]
  },
  {
   "cell_type": "markdown",
   "id": "fc601975-35ed-4680-a4e1-0273ee3cc047",
   "metadata": {},
   "source": [
    "## Question 2"
   ]
  },
  {
   "cell_type": "code",
   "execution_count": 2,
   "id": "a16336a1-1ef0-41e8-bc7c-49387db27497",
   "metadata": {},
   "outputs": [
    {
     "data": {
      "text/plain": [
       "   date       datetime            SACTMIN SPOSTMIN\n",
       "1  01/01/2015 2015-01-01 07:51:12 NA       45     \n",
       "2  01/01/2015 2015-01-01 08:02:13 NA       60     \n",
       "3  01/01/2015 2015-01-01 08:05:30 54       NA     \n",
       "4  01/01/2015 2015-01-01 08:09:12 NA       60     \n",
       "5  01/01/2015 2015-01-01 08:16:12 NA       60     \n",
       "6  01/01/2015 2015-01-01 08:22:16 55       NA     \n",
       "7  01/01/2015 2015-01-01 08:23:12 NA       60     \n",
       "8  01/01/2015 2015-01-01 08:29:12 NA       60     \n",
       "9  01/01/2015 2015-01-01 08:37:13 NA       90     \n",
       "10 01/01/2015 2015-01-01 08:44:11 NA      105     \n",
       "11 01/01/2015 2015-01-01 08:50:33 NA      105     \n",
       "12 01/01/2015 2015-01-01 08:51:12 NA      105     \n",
       "13 01/01/2015 2015-01-01 09:02:13 NA      105     \n",
       "14 01/01/2015 2015-01-01 09:09:16 NA      105     \n",
       "15 01/01/2015 2015-01-01 09:16:12 NA      120     \n",
       "16 01/01/2015 2015-01-01 09:23:12 NA      120     \n",
       "17 01/01/2015 2015-01-01 09:29:12 NA      120     \n",
       "18 01/01/2015 2015-01-01 09:34:32 NA      120     \n",
       "19 01/01/2015 2015-01-01 09:37:12 NA       80     \n",
       "20 01/01/2015 2015-01-01 09:44:11 NA       80     \n",
       "21 01/01/2015 2015-01-01 09:51:12 NA       80     \n",
       "22 01/01/2015 2015-01-01 10:02:14 NA       90     \n",
       "23 01/01/2015 2015-01-01 10:09:12 NA       90     \n",
       "24 01/01/2015 2015-01-01 10:16:12 NA       90     \n",
       "25 01/01/2015 2015-01-01 10:23:11 NA       90     \n",
       "26 01/01/2015 2015-01-01 10:29:13 NA       90     \n",
       "27 01/01/2015 2015-01-01 10:37:13 NA       90     \n",
       "28 01/01/2015 2015-01-01 10:44:13 NA       80     \n",
       "29 01/01/2015 2015-01-01 10:51:13 NA       80     \n",
       "30 01/01/2015 2015-01-01 11:02:14 NA       80     \n",
       "31 01/01/2015 2015-01-01 11:09:14 NA       80     \n",
       "32 01/01/2015 2015-01-01 11:12:55 NA       80     \n",
       "33 01/01/2015 2015-01-01 11:16:13 NA       80     \n",
       "34 01/01/2015 2015-01-01 11:23:13 NA       80     \n",
       "35 01/01/2015 2015-01-01 11:29:13 NA       90     \n",
       "36 01/01/2015 2015-01-01 11:37:13 NA       90     \n",
       "37 01/01/2015 2015-01-01 11:44:13 NA       90     \n",
       "38 01/01/2015 2015-01-01 11:51:12 NA      100     \n",
       "39 01/01/2015 2015-01-01 12:02:14 NA      100     \n",
       "40 01/01/2015 2015-01-01 12:09:14 NA      120     \n",
       "41 01/01/2015 2015-01-01 12:16:12 NA      150     \n",
       "42 01/01/2015 2015-01-01 12:23:12 NA      120     \n",
       "43 01/01/2015 2015-01-01 12:29:12 NA      120     \n",
       "44 01/01/2015 2015-01-01 12:37:16 NA      120     \n",
       "45 01/01/2015 2015-01-01 12:43:18 NA      120     \n",
       "46 01/01/2015 2015-01-01 12:44:13 NA      120     \n",
       "47 01/01/2015 2015-01-01 12:51:12 NA      120     \n",
       "48 01/01/2015 2015-01-01 13:02:14 NA      120     \n",
       "49 01/01/2015 2015-01-01 13:09:23 NA      120     \n",
       "50 01/01/2015 2015-01-01 13:16:13 NA      120     "
      ]
     },
     "metadata": {},
     "output_type": "display_data"
    },
    {
     "data": {
      "text/plain": [
       "\n",
       " -999     0     5    10    15    20    25    30    35    40    45    50    55 \n",
       "23062    32   897  1306   914  3638  2166 13939  4894 14941 15149 19555  6989 \n",
       "   60    65    70    75    80    85    90    95   100   105   110   115   120 \n",
       "29034 10345 23496 12101 22971  5301 23813  6853 10773  8164 11909  3000 13097 \n",
       "  125   130   135   140   145   150   155   160   165   170   175   180   185 \n",
       " 1954  5982  1723  4151   940  3793   394  1739   520  1031   272  1644   163 \n",
       "  190   195   200   205   210   215   220   225   230   235   240   250   260 \n",
       "  375   128   249   100   257    11    88    26    26    17    37    17    10 \n",
       "  270   280   300  <NA> \n",
       "    6     2     2  7635 "
      ]
     },
     "metadata": {},
     "output_type": "display_data"
    },
    {
     "data": {
      "text/plain": [
       "  date       datetime            SACTMIN SPOSTMIN\n",
       "1 01/01/2015 2015-01-01 07:51:12 NA      45      \n",
       "2 01/01/2015 2015-01-01 08:02:13 NA      60      \n",
       "4 01/01/2015 2015-01-01 08:09:12 NA      60      \n",
       "5 01/01/2015 2015-01-01 08:16:12 NA      60      \n",
       "7 01/01/2015 2015-01-01 08:23:12 NA      60      \n",
       "8 01/01/2015 2015-01-01 08:29:12 NA      60      "
      ]
     },
     "metadata": {},
     "output_type": "display_data"
    }
   ],
   "source": [
    "head(myDF, n=50)\n",
    "table(myDF$SPOSTMIN, useNA=\"always\")\n",
    "newDF <- myDF[complete.cases(myDF[ , c('SPOSTMIN')]), ] \n",
    "head(newDF)"
   ]
  },
  {
   "cell_type": "markdown",
   "id": "14dc22d4-ddc3-41cc-a91a-cb0025bc0c80",
   "metadata": {},
   "source": [
    "a) The increments of time are in 5 or 10. There are 54 different increments, excluding the NA values.\n",
    "b)There are  NA 7635 values in SPOSTMIN.\n",
    "c)see last r statement"
   ]
  },
  {
   "cell_type": "markdown",
   "id": "8e586edd-ff26-4ce2-8f6b-2424b26f2929",
   "metadata": {},
   "source": [
    "## Question 3"
   ]
  },
  {
   "cell_type": "code",
   "execution_count": 3,
   "id": "bbe0f40d-9655-4653-9ca8-886bdb61cb91",
   "metadata": {},
   "outputs": [
    {
     "data": {
      "text/plain": [
       "[1] 29.8"
      ]
     },
     "metadata": {},
     "output_type": "display_data"
    },
    {
     "data": {
      "text/plain": [
       "[1] 39.6"
      ]
     },
     "metadata": {},
     "output_type": "display_data"
    },
    {
     "name": "stderr",
     "output_type": "stream",
     "text": [
      "Warning message in `==.default`(myDF$date, c(\"01/17/2021\", \"02/21/2021\", \"05/30/2021\", :\n",
      "\"longer object length is not a multiple of shorter object length\"\n",
      "Warning message in is.na(e1) | is.na(e2):\n",
      "\"longer object length is not a multiple of shorter object length\"\n"
     ]
    },
    {
     "data": {
      "text/plain": [
       "[1] 36"
      ]
     },
     "metadata": {},
     "output_type": "display_data"
    },
    {
     "name": "stderr",
     "output_type": "stream",
     "text": [
      "Warning message in `==.default`(myDF$date, c(\"06/21/2021\", \"06/22/2021\", \"06/23/2021\", :\n",
      "\"longer object length is not a multiple of shorter object length\"\n",
      "Warning message in is.na(e1) | is.na(e2):\n",
      "\"longer object length is not a multiple of shorter object length\"\n"
     ]
    },
    {
     "data": {
      "text/plain": [
       "[1] 36.16667"
      ]
     },
     "metadata": {},
     "output_type": "display_data"
    },
    {
     "data": {
      "text/plain": [
       "\n",
       "11/08/2021 10/01/2021 11/09/2021 10/29/2021 10/15/2021 10/10/2021 10/05/2021 \n",
       "       363        359        344        333        332        330        329 \n",
       "10/17/2021 10/20/2021 10/08/2021 \n",
       "       327        327        323 "
      ]
     },
     "metadata": {},
     "output_type": "display_data"
    }
   ],
   "source": [
    "mean(myDF$SACTMIN[myDF$date == '12/28/2021'], na.rm=TRUE)\n",
    "mean(myDF$SACTMIN[myDF$date == '07/26/2021'], na.rm=TRUE)\n",
    "holiday_mean <- mean(myDF$SACTMIN[myDF$date == c('01/17/2021', '02/21/2021', '05/30/2021', '06/20/2021', '07/04/2021', '09/05/2021', '10/10/2021', '11/11/2021', '11/24/2021', '12/26/2021', '12/31/2021')], na.rm=TRUE)\n",
    "holiday_mean\n",
    "summer_mean <- mean(myDF$SACTMIN[myDF$date == c('06/21/2021','06/22/2021','06/23/2021','06/24/2021','06/25/2021','06/26/2021','06/27/2021','06/28/2021','06/29/2021','06/30/2021','07/01/2021','07/02/2021','07/03/2021','07/04/2021','07/05/2021','07/06/2021','07/07/2021','07/08/2021','07/09/2021','07/10/2021','07/11/2021','07/12/2021','07/13/2021','07/14/2021','07/15/2021','07/16/2021','07/17/2021','07/18/2021','07/19/2021','07/20/2021','07/21/2021','07/22/2021','07/23/2021','07/24/2021','07/25/2021','07/26/2021','07/27/2021','07/28/2021','07/29/2021','07/30/2021','07/31/2021','08/01/2021','08/02/2021','08/03/2021','08/04/2021','08/05/2021','08/06/2021','08/07/2021','08/08/2021','08/09/2021','08/10/2021','08/11/2021','08/12/2021','08/13/2021','08/14/2021','08/15/2021','08/16/2021','08/17/2021','08/18/2021','08/19/2021','08/20/2021','08/21/2021','08/22/2021','08/23/2021','08/24/2021','08/25/2021','08/26/2021','08/27/2021','08/28/2021','08/29/2021','08/30/2021','09/01/2021','09/02/2021','09/03/2021','09/04/2021','09/05/2021','09/06/2021','09/07/2021','09/08/2021','09/09/2021','09/10/2021','09/11/2021','09/12/2021','09/13/2021','09/14/2021','09/15/2021','09/16/2021','09/17/2021','09/18/2021','09/19/2021','09/20/2021','09/21/2021','09/22/2021')], na.rm=TRUE)\n",
    "summer_mean\n",
    "head(sort(table(myDF$date), decreasing=TRUE), n=10)"
   ]
  },
  {
   "cell_type": "markdown",
   "id": "47c6229f-35f7-400c-8366-c442baa5cf47",
   "metadata": {},
   "source": [
    "a) On Christmas, it was 29.8 minutes. On July 26, it was 39.6\n",
    "b) There were only 2 non NA values on holidays, and they averaged to 36 minutes. The mean of every summer day is 36.167. There isn't enough data to make that clear of a conclusion, though.\n",
    "c)11/08/2021"
   ]
  },
  {
   "cell_type": "markdown",
   "id": "da22f29c-d245-4d2b-9fc1-ca14cb6087d9",
   "metadata": {},
   "source": [
    "## Question 4"
   ]
  },
  {
   "cell_type": "code",
   "execution_count": 4,
   "id": "8cffc767-d1c8-4d64-b7dc-f0d2ee8a80d1",
   "metadata": {},
   "outputs": [
    {
     "data": {
      "text/plain": [
       "[1] 321631      4"
      ]
     },
     "metadata": {},
     "output_type": "display_data"
    },
    {
     "data": {
      "text/plain": [
       "[1] 313996      4"
      ]
     },
     "metadata": {},
     "output_type": "display_data"
    },
    {
     "data": {
      "text/plain": [
       "[1] 321631"
      ]
     },
     "metadata": {},
     "output_type": "display_data"
    },
    {
     "name": "stderr",
     "output_type": "stream",
     "text": [
      "Warning message in myDF$SPOSTMIN + newDF$SPOSTMIN:\n",
      "\"longer object length is not a multiple of shorter object length\"\n"
     ]
    },
    {
     "data": {
      "text/plain": [
       "[1] 321631"
      ]
     },
     "metadata": {},
     "output_type": "display_data"
    }
   ],
   "source": [
    "dim(myDF)\n",
    "dim(newDF)\n",
    "length(myDF$SPOSTMIN)\n",
    "length((myDF$SPOSTMIN + newDF$SPOSTMIN)/60)"
   ]
  },
  {
   "cell_type": "markdown",
   "id": "0d552245-b4d6-474a-9cc9-fa7b8e674d55",
   "metadata": {},
   "source": [
    "a) myDF - 321631; newDF - 313996\n",
    "b) the new length is 321631\n",
    "c) the vector was out of data, so it started over again"
   ]
  },
  {
   "cell_type": "markdown",
   "id": "88c9cdac-3e92-498f-83fa-e089bfc44ac8",
   "metadata": {},
   "source": [
    "## Question 5"
   ]
  },
  {
   "cell_type": "code",
   "execution_count": 6,
   "id": "d370d7c9-06db-42b9-b75f-240481a5c491",
   "metadata": {},
   "outputs": [
    {
     "name": "stderr",
     "output_type": "stream",
     "text": [
      "Warning message:\n",
      "\"tz(): Don't know how to compute timezone for object of class factor; returning \"UTC\". This warning will become an error in the next major version of lubridate.\"\n"
     ]
    },
    {
     "data": {
      "text/plain": [
       "[1] 37.92959"
      ]
     },
     "metadata": {},
     "output_type": "display_data"
    },
    {
     "data": {
      "text/plain": [
       "[1] 34.55502"
      ]
     },
     "metadata": {},
     "output_type": "display_data"
    },
    {
     "data": {
      "text/plain": [
       "[1] 36.44053"
      ]
     },
     "metadata": {},
     "output_type": "display_data"
    },
    {
     "data": {
      "text/plain": [
       "[1] 36.17215"
      ]
     },
     "metadata": {},
     "output_type": "display_data"
    },
    {
     "data": {
      "text/plain": [
       "[1] 36.12491"
      ]
     },
     "metadata": {},
     "output_type": "display_data"
    },
    {
     "data": {
      "text/plain": [
       "[1] 37.73216"
      ]
     },
     "metadata": {},
     "output_type": "display_data"
    },
    {
     "data": {
      "text/plain": [
       "[1] 34.90372"
      ]
     },
     "metadata": {},
     "output_type": "display_data"
    },
    {
     "name": "stderr",
     "output_type": "stream",
     "text": [
      "Warning message in dotchart(week_wait):\n",
      "\"'x' is neither a vector nor a matrix: using as.numeric(x)\"\n"
     ]
    },
    {
     "data": {
      "image/png": "[encoded data removed]",
      "text/plain": [
       "plot without title"
      ]
     },
     "metadata": {
      "image/png": {
       "height": 420,
       "width": 420
      }
     },
     "output_type": "display_data"
    },
    {
     "data": {
      "text/plain": [
       "       date       datetime            SACTMIN SPOSTMIN weekday\n",
       "321626 12/28/2021 2021-12-28 22:36:08 NA      45       Tue    \n",
       "321627 12/28/2021 2021-12-28 22:42:15 NA      45       Tue    \n",
       "321628 12/28/2021 2021-12-28 22:48:12 NA      45       Tue    \n",
       "321629 12/28/2021 2021-12-28 22:54:10 NA      45       Tue    \n",
       "321630 12/28/2021 2021-12-28 22:54:28 10      NA       Tue    \n",
       "321631 12/28/2021 2021-12-28 22:57:34 NA      35       Tue    "
      ]
     },
     "metadata": {},
     "output_type": "display_data"
    },
    {
     "name": "stderr",
     "output_type": "stream",
     "text": [
      "Warning message:\n",
      "\"tz(): Don't know how to compute timezone for object of class factor; returning \"UTC\". This warning will become an error in the next major version of lubridate.\"\n"
     ]
    },
    {
     "data": {
      "image/png": "[encoded data removed]",
      "text/plain": [
       "plot without title"
      ]
     },
     "metadata": {
      "image/png": {
       "height": 420,
       "width": 420
      }
     },
     "output_type": "display_data"
    }
   ],
   "source": [
    "library(lubridate)\n",
    "myDF$weekday <- wday(myDF$datetime, label=TRUE)\n",
    "mean(myDF$SACTMIN[(myDF$weekday == 'Mon') & (myDF$SACTMIN != -92918)], na.rm=TRUE)\n",
    "mean(myDF$SACTMIN[(myDF$weekday == 'Tue') & (myDF$SACTMIN != -92918)], na.rm=TRUE)\n",
    "mean(myDF$SACTMIN[(myDF$weekday == 'Wed') & (myDF$SACTMIN != -92918)], na.rm=TRUE)\n",
    "mean(myDF$SACTMIN[(myDF$weekday == 'Thu') & (myDF$SACTMIN != -92918)], na.rm=TRUE)\n",
    "mean(myDF$SACTMIN[(myDF$weekday == 'Fri') & (myDF$SACTMIN != -92918)], na.rm=TRUE)\n",
    "mean(myDF$SACTMIN[(myDF$weekday == 'Sat') & (myDF$SACTMIN != -92918)], na.rm=TRUE)\n",
    "mean(myDF$SACTMIN[(myDF$weekday == 'Sun') & (myDF$SACTMIN != -92918)], na.rm=TRUE)\n",
    "week_wait <- tapply(myDF$SACTMIN[myDF$SACTMIN != -92918], myDF$weekday[myDF$SACTMIN != -92918], mean, na.rm=TRUE)\n",
    "plot(week_wait)\n",
    "dotchart(week_wait)\n",
    "tail(myDF)\n",
    "myDF$month <- month(myDF$datetime, label=TRUE)"
   ]
  },
  {
   "cell_type": "markdown",
   "id": "9fbf00fb-2418-460f-ae94-2a32b0c28952",
   "metadata": {},
   "source": [
    "a)Monday had the longest wait times.\n",
    "b)The plot is a better conveyer of information because it puts the independent variable on the x-axis and makes the viewing more intuitive.\n",
    "c)Markdown notes and sentences and analysis written here."
   ]
  },
  {
   "cell_type": "markdown",
   "id": "f76442d6-d02e-4f26-b9d6-c3183e1d6929",
   "metadata": {},
   "source": [
    "## Pledge\n",
    "\n",
    "By submitting this work I hereby pledge that this is my own, personal work. I've acknowledged in the designated place at the top of this file all sources that I used to complete said work, including but not limited to: online resources, books, and electronic communications. I've noted all collaboration with fellow students and/or TA's. I did not copy or plagiarize another's work.\n",
    "\n",
    "> As a Boilermaker pursuing academic excellence, I pledge to be honest and true in all that I do. Accountable together – We are Purdue."
   ]
  }
 ],
 "metadata": {
  "kernelspec": {
   "display_name": "f2022-s2023-r",
   "language": "R",
   "name": "f2022-s2023-r"
  },
  "language_info": {
   "codemirror_mode": "r",
   "file_extension": ".r",
   "mimetype": "text/x-r-source",
   "name": "R",
   "pygments_lexer": "r",
   "version": "4.2.1"
  }
 },
 "nbformat": 4,
 "nbformat_minor": 5
}
